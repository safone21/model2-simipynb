{
 "cells": [
  {
   "cell_type": "markdown",
   "metadata": {},
   "source": [
    "# Reaction Time Prediction Model\n",
    "\n",
    "## Objective\n",
    "Predict human reaction time (PVT test) based on physiological and lifestyle factors.\n",
    "\n",
    "**Dataset**: 64 samples, 7 original features (Gender, Sleep, Heart rate, Caffeine, O2 saturation, Stress, Age)\n",
    "\n",
    "---"
   ]
  },
  {
   "cell_type": "markdown",
   "metadata": {},
   "source": [
    "## 1. Import Libraries"
   ]
  },
  {
   "cell_type": "code",
   "execution_count": null,
   "metadata": {},
   "outputs": [],
   "source": [
    "import pandas as pd\n",
    "import numpy as np\n",
    "import pickle\n",
    "from sklearn.model_selection import LeaveOneOut, cross_val_predict\n",
    "from sklearn.preprocessing import StandardScaler, LabelEncoder\n",
    "from sklearn.linear_model import ElasticNet\n",
    "from sklearn.metrics import mean_squared_error, mean_absolute_error\n",
    "import warnings\n",
    "warnings.filterwarnings('ignore')\n",
    "np.random.seed(42)"
   ]
  },
  {
   "cell_type": "markdown",
   "metadata": {},
   "source": [
    "## 2. Load and Prepare Data"
   ]
  },
  {
   "cell_type": "code",
   "execution_count": null,
   "metadata": {},
   "outputs": [],
   "source": [
    "# Load dataset\n",
    "df = pd.read_csv('Expérience 2 - Feuil1.csv')\n",
    "\n",
    "# Remove unnecessary columns\n",
    "df = df.drop(['GLUCOSE (mg/dL)', 'PARTICIPANT'], axis=1)\n",
    "\n",
    "# Encode gender (H=1, F=0)\n",
    "le = LabelEncoder()\n",
    "df['SEXE'] = le.fit_transform(df['SEXE'])"
   ]
  },
  {
   "cell_type": "markdown",
   "metadata": {},
   "source": [
    "## 3. Feature Engineering\n",
    "\n",
    "Create new features by combining existing ones to capture interactions and non-linear relationships.\n",
    "\n",
    "### Why These Features?\n",
    "\n",
    "**1. SLEEP_STRESS = Sleep × Stress**\n",
    "- **Combined effect**: Low sleep + high stress is worse\n",
    "- **Expected**: More sleep with high stress = better RT; Less sleep with high stress = worse RT\n",
    "\n",
    "**2. HEART_STRESS = Heart Rate × Stress**\n",
    "- **Expected**: High heart rate + high stress Could improve RT (alertness) OR worsen it (anxiety)\n",
    "\n",
    "**3. AGE_SLEEP = Age × Sleep**\n",
    "- **Age-dependent sleep effect**: Older people need quality sleep more than younger people\n",
    "- **Expected**: Young + low sleep = less impact; Old + low sleep = bigger impact\n",
    "\n",
    "**4. CAFFEINE_SLEEP = Caffeine ÷ (Sleep + 1)**\n",
    "    (+1)To prevent division by zero if sleep hours = 0.\n",
    "\n",
    "- **Compensatory behavior**: People use caffeine to compensate for poor sleep\n",
    "- **Relative dependency**: 200mg caffeine after 4h sleep ≠ 200mg after 8h sleep\n",
    "- **Expected**: High ratio = trying to compensate for tiredness\n",
    "\n",
    "**5. SLEEP_SQ = Sleep²**\n",
    "- **Diminishing returns**: 8h→9h sleep improvement ≠ 4h→5h improvement\n",
    "- **Non-linear relationship**: Sleep doesn't affect RT linearly\n",
    "\n",
    "**6. AGE_SQ = Age²**\n",
    "- **Non-linear aging**: RT decline accelerates with age (not constant)\n",
    "- **Expected**: 20→30 age change ≠ 40→50 age change in RT impact\n",
    "\n",
    "**7. STRESS_SQ = Stress²**\n",
    "- **Exponential impact**: Moderate stress (30%) ≠ 2× impact of high stress (60%)\n",
    "\n",
    "**8. SLEEP_DEFICIT = 1 if Sleep < 7, else 0**\n",
    "- **Clinical threshold**: 7 hours is recommended minimum\n",
    "- **Binary switch**: There's a \"cliff\" effect below 7h\n",
    "- **Expected**: People with <7h sleep are in a different performance category\n",
    "\n",
    "**9. HIGH_STRESS = 1 if Stress > 40%, else 0**\n",
    "- **Threshold effect**: Moderate stress (20-40%) ≠ high stress (>40%)\n",
    "- **Clinical relevance**: >40% biological stress is considered elevated\n",
    "- **Categorization**: Separates \"stressed\" from \"not stressed\" individuals"
   ]
  },
  {
   "cell_type": "code",
   "execution_count": null,
   "metadata": {},
   "outputs": [],
   "source": [
    "# Create interaction and polynomial features\n",
    "df['SLEEP_STRESS'] = df['SOMMEIL (H)'] * df['STRESS BIOLOGIQUE %']\n",
    "df['HEART_STRESS'] = df['HEART RATE (BPM)'] * df['STRESS BIOLOGIQUE %']\n",
    "df['AGE_SLEEP'] = df['AGE'] * df['SOMMEIL (H)']\n",
    "df['CAFFEINE_SLEEP'] = df['CAFFEINE (mg)'] / (df['SOMMEIL (H)'] + 1)\n",
    "df['SLEEP_SQ'] = df['SOMMEIL (H)'] ** 2\n",
    "df['AGE_SQ'] = df['AGE'] ** 2\n",
    "df['STRESS_SQ'] = df['STRESS BIOLOGIQUE %'] ** 2\n",
    "df['SLEEP_DEFICIT'] = np.where(df['SOMMEIL (H)'] < 7, 1, 0)\n",
    "df['HIGH_STRESS'] = np.where(df['STRESS BIOLOGIQUE %'] > 40, 1, 0)"
   ]
  },
  {
   "cell_type": "markdown",
   "metadata": {},
   "source": [
    "## 4. Prepare Features and Target"
   ]
  },
  {
   "cell_type": "code",
   "execution_count": null,
   "metadata": {},
   "outputs": [],
   "source": [
    "# Separate X and y\n",
    "X = df.drop('PVT : TEMPS DE REACTION (ms)', axis=1)\n",
    "y = df['PVT : TEMPS DE REACTION (ms)']"
   ]
  },
  {
   "cell_type": "markdown",
   "metadata": {},
   "source": [
    "## 5. Train Model with Leave-One-Out Cross-Validation\n",
    "\n",
    "### Model: ElasticNet\n",
    "- Combines L1 (Lasso) and L2 (Ridge) regularization\n",
    "- Ideal for small datasets with many features\n",
    "- Prevents overfitting\n",
    "\n",
    "### Validation: Leave-One-Out CV\n",
    "- Uses maximum data (trains on 63, tests on 1, repeats 64 times)\n",
    "- Most reliable for small datasets"
   ]
  },
  {
   "cell_type": "code",
   "execution_count": null,
   "metadata": {},
   "outputs": [],
   "source": [
    "# Scale features\n",
    "scaler = StandardScaler()\n",
    "X_scaled = scaler.fit_transform(X)\n",
    "\n",
    "# Create and train model\n",
    "model = ElasticNet(alpha=1, l1_ratio=0.5, max_iter=10000, random_state=42)\n",
    "loo = LeaveOneOut()\n",
    "\n",
    "# Get predictions\n",
    "y_pred = cross_val_predict(model, X_scaled, y, cv=loo)\n",
    "\n",
    "# Train final model on all data\n",
    "model.fit(X_scaled, y)"
   ]
  },
  {
   "cell_type": "markdown",
   "metadata": {},
   "source": [
    "## Before vs After Scaling\n",
    "\n",
    "### BEFORE (Original Values):\n",
    "| Feature       | Min  | Max  | Range Type      |\n",
    "|---------------|------|------|----------------|\n",
    "| SEXE          | 0    | 1    | tiny range     |\n",
    "| SLEEP         | 2    | 11   | small range    |\n",
    "| HEART_RATE    | 55   | 111  | medium range   |\n",
    "| CAFFEINE      | 0    | 236  | large range    |\n",
    "| AGE_SQ        | 484  | 2500 | HUGE range     |\n",
    "| STRESS_SQ     | 121  | 5184 | HUGE range     |\n",
    "\n",
    "> **Model confusion:** \"AGE_SQ must be super important because it's in the thousands!\"\n",
    "\n",
    "---\n",
    "\n",
    "### AFTER (Scaled Values using StandardScaler):\n",
    "| Feature          | Min    | Max    |\n",
    "|------------------|--------|--------|\n",
    "| SEXE_scaled       | -1.5   | +1.5   |\n",
    "| SLEEP_scaled      | -1.8   | +2.0   |\n",
    "| HEART_RATE_scaled | -2.1   | +2.5   |\n",
    "| CAFFEINE_scaled   | -1.0   | +2.8   |\n",
    "| AGE_SQ_scaled     | -1.5   | +2.0   |\n",
    "| STRESS_SQ_scaled  | -1.2   | +2.3   |\n",
    "\n",
    "> ✅ Now all features are on the **same scale** (roughly -3 to +3).  \n",
    "> The model can fairly compare features and determine:  \n",
    "> **\"Which feature actually matters more?\"**\n"
   ]
  },
  {
   "cell_type": "markdown",
   "metadata": {},
   "source": [
    "## 6. Evaluation Metrics\n",
    "\n",
    "### Metric Definitions:\n",
    "\n",
    "\n",
    "\n",
    "**MSE (Mean Squared Error)**\n",
    "- Formula: $MSE = \\frac{1}{n}\\sum_{i=1}^{n}(y_{actual} - y_{pred})^2$\n",
    "- Range: 0 to ∞ (0=perfect)\n",
    "- Units: ms²\n",
    "\n",
    "**RMSE (Root Mean Squared Error)**\n",
    "- Formula: $RMSE = \\sqrt{MSE}$\n",
    "- Range: 0 to ∞ (0=perfect)\n",
    "- Units: ms (same as target)\n",
    "- Meaning: Average prediction error\n",
    "\n",
    "**MAE (Mean Absolute Error)**\n",
    "- Formula: $MAE = \\frac{1}{n}\\sum_{i=1}^{n}|y_{actual} - y_{pred}|$\n",
    "- Range: 0 to ∞ (0=perfect)\n",
    "- Units: ms\n",
    "- Meaning: Average absolute error (less sensitive to outliers)\n",
    "\n",
    "---"
   ]
  },
  {
   "cell_type": "code",
   "execution_count": null,
   "metadata": {},
   "outputs": [],
   "source": [
    "# Calculate metrics\n",
    "mse = mean_squared_error(y, y_pred)\n",
    "rmse = np.sqrt(mse)\n",
    "mae = mean_absolute_error(y, y_pred)\n",
    "\n",
    "# Display results\n",
    "print(\"=\"*70)\n",
    "print(\"MODEL PERFORMANCE METRICS\")\n",
    "print(\"=\"*70)\n",
    "print(f\"MSE:        {mse:.2f} ms²\")\n",
    "print(f\"RMSE:       {rmse:.2f} ms\")\n",
    "print(f\"MAE:        {mae:.2f} ms\")\n",
    "print(\"\\n\" + \"=\"*70)"
   ]
  },
  {
   "cell_type": "markdown",
   "metadata": {},
   "source": [
    "## 7. Save Model and Scaler for Deployment"
   ]
  },
  {
   "cell_type": "code",
   "execution_count": null,
   "metadata": {},
   "outputs": [],
   "source": [
    "# Save model and scaler using pickle\n",
    "with open('model.pkl', 'wb') as f:\n",
    "    pickle.dump(model, f)\n",
    "\n",
    "with open('scaler.pkl', 'wb') as f:\n",
    "    pickle.dump(scaler, f)\n",
    "\n",
    "print(\"✓ Model saved to 'model.pkl'\")\n",
    "print(\"✓ Scaler saved to 'scaler.pkl'\")"
   ]
  }
 ],
 "metadata": {
  "kernelspec": {
   "display_name": "Python 3",
   "language": "python",
   "name": "python3"
  },
  "language_info": {
   "codemirror_mode": {
    "name": "ipython",
    "version": 3
   },
   "file_extension": ".py",
   "mimetype": "text/x-python",
   "name": "python",
   "nbconvert_exporter": "python",
   "pygments_lexer": "ipython3",
   "version": "3.8.0"
  }
 },
 "nbformat": 4,
 "nbformat_minor": 4
}
