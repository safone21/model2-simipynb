{
 "cells": [
  {
   "cell_type": "code",
   "execution_count": null,
   "metadata": {},
   "outputs": [],
   "source": [
    "import requests\n",
    "\n",
    "# Your deployed API endpoint\n",
    "url = \"https://your-app-name.onrender.com/predict\"\n",
    "\n",
    "# Input data must match the API format\n",
    "data = {\n",
    "    \"sexe\": \"H\",\n",
    "    \"sleep_hours\": 8,\n",
    "    \"heart_rate\": 64,\n",
    "    \"caffeine\": 236,\n",
    "    \"o2_sat\": 96,\n",
    "    \"stress\": 50,\n",
    "    \"age\": 42\n",
    "}\n",
    "\n",
    "# Send POST request\n",
    "response = requests.post(url, json=data)\n",
    "\n",
    "# Print results\n",
    "print(\"Status code:\", response.status_code)\n",
    "print(\"Response:\", response.json())"
   ]
  }
 ],
 "metadata": {
  "kernelspec": {
   "display_name": "Python 3",
   "language": "python",
   "name": "python3"
  },
  "language_info": {
   "codemirror_mode": {
    "name": "ipython",
    "version": 3
   },
   "file_extension": ".py",
   "mimetype": "text/x-python",
   "name": "python",
   "nbconvert_exporter": "python",
   "pygments_lexer": "ipython3",
   "version": "3.8.0"
  }
 },
 "nbformat": 4,
 "nbformat_minor": 4
}
